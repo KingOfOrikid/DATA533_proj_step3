{
 "cells": [
  {
   "cell_type": "code",
   "execution_count": 3,
   "id": "2154fc2e",
   "metadata": {},
   "outputs": [
    {
     "name": "stderr",
     "output_type": "stream",
     "text": [
      ".."
     ]
    },
    {
     "name": "stdout",
     "output_type": "stream",
     "text": [
      "successful\n",
      "Please input your password: ········\n",
      "Please input your name: 1\n",
      "########################################################################################\n",
      "Welcome to User Menu: 1.centre, 2.borrow return centre, 3.book search, 0.quit\n",
      "########################################################################################\n",
      "Input your choice:0\n",
      "Please input your password: ········\n",
      "Please input your name: 2\n",
      "########################################################################################\n",
      "Welcome to User Menu: 1.centre, 2.borrow return centre, 3.book search, 0.quit\n",
      "########################################################################################\n",
      "Input your choice:1\n",
      "User centre: 1.my information 2.change username 3.change name 0.quit\n",
      "Input your choice:0\n"
     ]
    },
    {
     "name": "stderr",
     "output_type": "stream",
     "text": [
      ".."
     ]
    },
    {
     "name": "stdout",
     "output_type": "stream",
     "text": [
      "successful\n",
      "Please input the following information:\n",
      "The name of this book:1\n",
      "The isbn of this book:1\n",
      "The author of this book:1\n",
      "The discrip of this book:1\n",
      "The position of this book:1\n"
     ]
    },
    {
     "name": "stderr",
     "output_type": "stream",
     "text": [
      "."
     ]
    },
    {
     "name": "stdout",
     "output_type": "stream",
     "text": [
      "This book is not in the library or it has been borrowed by somebody else\n",
      "This book is not in the library or it hasn't been borrowed\n",
      "the book(isbn 1492041130) is borrow by user stu\n",
      "Please input the position of the book you want to search for:1\n"
     ]
    },
    {
     "name": "stderr",
     "output_type": "stream",
     "text": [
      "."
     ]
    },
    {
     "name": "stdout",
     "output_type": "stream",
     "text": [
      "No such position\n",
      "This book is not in the library or it hasn't been borrowed\n",
      "successful\n",
      "########################################################################################\n",
      "Welcome to Admin Menu: 1.user management, 2.book management, 3.borrow management, 0.quit\n",
      "########################################################################################\n",
      "Input your choice:0\n",
      "Username Name Point\n",
      "stu_test  name_test  10\n",
      "stu  cc  10\n",
      "test_name1  1  10\n",
      "test_name2  2  10\n",
      "Please input the username of user which you want to modify the information(0=quit):0\n"
     ]
    },
    {
     "name": "stderr",
     "output_type": "stream",
     "text": [
      "."
     ]
    },
    {
     "name": "stdout",
     "output_type": "stream",
     "text": [
      "########################################################################################\n",
      "Welcome to User Menu: 1.centre, 2.borrow return centre, 3.book search, 0.quit\n",
      "########################################################################################\n",
      "Input your choice:0\n"
     ]
    },
    {
     "name": "stderr",
     "output_type": "stream",
     "text": [
      "."
     ]
    },
    {
     "name": "stdout",
     "output_type": "stream",
     "text": [
      "Name Point\n",
      "cc 10\n",
      "successful\n",
      "<unittest.runner.TextTestResult run=8 errors=0 failures=0>\n"
     ]
    },
    {
     "name": "stderr",
     "output_type": "stream",
     "text": [
      "\n",
      "----------------------------------------------------------------------\n",
      "Ran 8 tests in 19.679s\n",
      "\n",
      "OK\n"
     ]
    }
   ],
   "source": [
    "import unittest\n",
    "from test_data import TestData\n",
    "from test_library import TestLibrary\n",
    "from test_library_book_system import TestLibrary_Book_System\n",
    "from test_library_person import TestLibrary_Person\n",
    "\n",
    "test_cases = (TestData,TestLibrary,TestLibrary_Book_System,TestLibrary_Person)\n",
    "\n",
    "def test_suite():\n",
    "    suite = unittest.TestSuite()\n",
    "    result = unittest.TestResult()\n",
    "    suite.addTest(unittest.makeSuite(TestData))\n",
    "    suite.addTest(unittest.makeSuite(TestLibrary))\n",
    "    suite.addTest(unittest.makeSuite(TestLibrary_Book_System))\n",
    "    suite.addTest(unittest.makeSuite(TestLibrary_Person))\n",
    "    runner = unittest.TextTestRunner()\n",
    "    print(runner.run(suite))\n",
    "test_suite()"
   ]
  },
  {
   "cell_type": "code",
   "execution_count": null,
   "id": "d3d63e98",
   "metadata": {},
   "outputs": [],
   "source": []
  }
 ],
 "metadata": {
  "kernelspec": {
   "display_name": "Python 3 (ipykernel)",
   "language": "python",
   "name": "python3"
  },
  "language_info": {
   "codemirror_mode": {
    "name": "ipython",
    "version": 3
   },
   "file_extension": ".py",
   "mimetype": "text/x-python",
   "name": "python",
   "nbconvert_exporter": "python",
   "pygments_lexer": "ipython3",
   "version": "3.9.7"
  }
 },
 "nbformat": 4,
 "nbformat_minor": 5
}
